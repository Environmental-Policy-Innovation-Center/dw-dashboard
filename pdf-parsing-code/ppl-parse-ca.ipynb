{
 "cells": [
  {
   "attachments": {},
   "cell_type": "markdown",
   "metadata": {},
   "source": [
    "## California\n",
    "\n",
    "This is a supplementary script for retrieving the Emerging Contaminants portion of California's IUP."
   ]
  },
  {
   "cell_type": "code",
   "execution_count": 1,
   "metadata": {},
   "outputs": [],
   "source": [
    "## Import necessary packages\n",
    "import pandas as pd\n",
    "import numpy as np\n",
    "import tkinter as tk\n",
    "import PyPDF2 \n",
    "import tabula\n",
    "import tkinter\n",
    "import camelot\n",
    "import ghostscript\n",
    "import re\n",
    "import os\n",
    "import csv\n",
    "import urllib\n",
    "import io\n",
    "import warnings\n",
    "warnings.filterwarnings(\"ignore\")"
   ]
  },
  {
   "cell_type": "code",
   "execution_count": 2,
   "metadata": {},
   "outputs": [
    {
     "name": "stdout",
     "output_type": "stream",
     "text": [
      "1\n"
     ]
    }
   ],
   "source": [
    "# get the full table\n",
    "ca_pdf_ec = camelot.read_pdf(\"https://www.waterboards.ca.gov/water_issues/programs/grants_loans/docs/2022/2022-23-supp-iup-ec-final.pdf\",\n",
    "                             pages='15', flavor = 'lattice')\n",
    "print(len(ca_pdf_ec))"
   ]
  },
  {
   "attachments": {},
   "cell_type": "markdown",
   "metadata": {},
   "source": [
    "### California - Emerging Contaminants"
   ]
  },
  {
   "cell_type": "code",
   "execution_count": 8,
   "metadata": {},
   "outputs": [],
   "source": [
    "# keep first page of the doc\n",
    "ca_df = ca_pdf_ec[0].df\n",
    "\n",
    "# subset and replace line breaks\n",
    "ca_df = ca_df.iloc[1:12,].reset_index(drop=True).copy()\n",
    "ca_df = ca_df.replace(\"\\n\", \"\", regex=True)\n",
    "\n",
    "# name columns\n",
    "ca_df.columns = ['Project.Number', 'District.Number', 'Applicant', 'Project.Title.Description', 'PFAS.Project', 'Population',\n",
    "                 'Degree.of.Disadvantaged', 'Requested.Funding', 'Estimated.Maximum.PF.Grant.Amount']\n",
    "\n",
    "# export to csv\n",
    "ca_df.to_csv(\"final_ppls/5-California_EC.csv\", index=False)"
   ]
  }
 ],
 "metadata": {
  "kernelspec": {
   "display_name": "base",
   "language": "python",
   "name": "python3"
  },
  "language_info": {
   "codemirror_mode": {
    "name": "ipython",
    "version": 3
   },
   "file_extension": ".py",
   "mimetype": "text/x-python",
   "name": "python",
   "nbconvert_exporter": "python",
   "pygments_lexer": "ipython3",
   "version": "3.8.8"
  },
  "orig_nbformat": 4,
  "vscode": {
   "interpreter": {
    "hash": "40d3a090f54c6569ab1632332b64b2c03c39dcf918b08424e98f38b5ae0af88f"
   }
  }
 },
 "nbformat": 4,
 "nbformat_minor": 2
}
