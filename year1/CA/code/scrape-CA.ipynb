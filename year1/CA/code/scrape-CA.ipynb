{
 "cells": [
  {
   "attachments": {},
   "cell_type": "markdown",
   "metadata": {},
   "source": [
    "## California\n",
    "\n",
    "This is a supplementary script for retrieving the Emerging Contaminants portion of California's IUP."
   ]
  },
  {
   "cell_type": "code",
   "execution_count": 1,
   "metadata": {},
   "outputs": [],
   "source": [
    "import pandas as pd\n",
    "import numpy as np\n",
    "import camelot.io as camelot\n",
    "# import ghostscript\n",
    "import sys\n",
    " \n",
    " # adding folders up to system path to access functions\n",
    "sys.path.insert(0, '../../../')\n",
    "from driveFolderHandler import downloadTempDriveFolder, deleteTempDriveFolder"
   ]
  },
  {
   "cell_type": "code",
   "execution_count": 5,
   "metadata": {},
   "outputs": [
    {
     "name": "stderr",
     "output_type": "stream",
     "text": [
      "Retrieving folder list\n"
     ]
    },
    {
     "name": "stdout",
     "output_type": "stream",
     "text": [
      "Processing file 1F5Wx5dm81-622mElQcUCshfpiXhSM9Ud 2022-23-supp-iup-ec-final.pdf\n",
      "Processing file 1fYzYvozxcE1Q0RPomt6lFWATx0y94-mC CA_IUPandPPL_2023.pdf\n",
      "Building directory structure completed\n"
     ]
    },
    {
     "name": "stderr",
     "output_type": "stream",
     "text": [
      "Retrieving folder list completed\n",
      "Building directory structure\n",
      "Downloading...\n",
      "From: https://drive.google.com/uc?id=1F5Wx5dm81-622mElQcUCshfpiXhSM9Ud\n",
      "To: /Users/pcork/epic/dw-dashboard/year1/CA/temp-docs/2022-23-supp-iup-ec-final.pdf\n",
      "100%|██████████| 378k/378k [00:00<00:00, 5.35MB/s]\n",
      "Downloading...\n",
      "From: https://drive.google.com/uc?id=1fYzYvozxcE1Q0RPomt6lFWATx0y94-mC\n",
      "To: /Users/pcork/epic/dw-dashboard/year1/CA/temp-docs/CA_IUPandPPL_2023.pdf\n",
      "100%|██████████| 1.93M/1.93M [00:00<00:00, 8.12MB/s]"
     ]
    },
    {
     "name": "stdout",
     "output_type": "stream",
     "text": [
      "Files stored in ../temp-docs\n"
     ]
    },
    {
     "name": "stderr",
     "output_type": "stream",
     "text": [
      "\n",
      "Download completed\n"
     ]
    }
   ],
   "source": [
    "path = \"../temp-docs\"\n",
    "downloadTempDriveFolder(folderID='1lOoYibx2dhv4qYkpeKLDSJd5uOVkkhtk',\n",
    "                        path=path)"
   ]
  },
  {
   "cell_type": "code",
   "execution_count": 7,
   "metadata": {},
   "outputs": [
    {
     "name": "stdout",
     "output_type": "stream",
     "text": [
      "1\n"
     ]
    }
   ],
   "source": [
    "# get the full table\n",
    "ca_pdf_ec = camelot.read_pdf(path+\"/2022-23-supp-iup-ec-final.pdf\",\n",
    "                             pages='15', flavor = 'lattice')\n",
    "print(len(ca_pdf_ec))"
   ]
  },
  {
   "attachments": {},
   "cell_type": "markdown",
   "metadata": {},
   "source": [
    "### California - Emerging Contaminants"
   ]
  },
  {
   "cell_type": "code",
   "execution_count": 8,
   "metadata": {},
   "outputs": [],
   "source": [
    "# keep first page of the doc\n",
    "ca_df = ca_pdf_ec[0].df\n",
    "\n",
    "# subset and replace line breaks\n",
    "ca_df = ca_df.iloc[1:12,].reset_index(drop=True).copy()\n",
    "ca_df = ca_df.replace(\"\\n\", \"\", regex=True)\n",
    "\n",
    "# name columns\n",
    "ca_df.columns = ['Project.Number', 'District.Number', 'Applicant', 'Project.Title.Description', 'PFAS.Project', 'Population',\n",
    "                 'Degree.of.Disadvantaged', 'Requested.Funding', 'Estimated.Maximum.PF.Grant.Amount']\n",
    "\n",
    "# export to csv\n",
    "ca_df.to_csv(\"final_ppls/5-California_EC.csv\", index=False)"
   ]
  },
  {
   "cell_type": "code",
   "execution_count": 8,
   "metadata": {},
   "outputs": [
    {
     "name": "stdout",
     "output_type": "stream",
     "text": [
      "Deleted folder and all files within ../temp-docs\n"
     ]
    }
   ],
   "source": [
    "deleteTempDriveFolder(path)"
   ]
  }
 ],
 "metadata": {
  "kernelspec": {
   "display_name": "base",
   "language": "python",
   "name": "python3"
  },
  "language_info": {
   "codemirror_mode": {
    "name": "ipython",
    "version": 3
   },
   "file_extension": ".py",
   "mimetype": "text/x-python",
   "name": "python",
   "nbconvert_exporter": "python",
   "pygments_lexer": "ipython3",
   "version": "3.11.4"
  },
  "orig_nbformat": 4,
  "vscode": {
   "interpreter": {
    "hash": "40d3a090f54c6569ab1632332b64b2c03c39dcf918b08424e98f38b5ae0af88f"
   }
  }
 },
 "nbformat": 4,
 "nbformat_minor": 2
}
