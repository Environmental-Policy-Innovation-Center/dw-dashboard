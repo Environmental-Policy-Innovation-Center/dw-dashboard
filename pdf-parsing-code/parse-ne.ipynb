{
 "cells": [
  {
   "cell_type": "code",
   "execution_count": 1,
   "metadata": {},
   "outputs": [],
   "source": [
    "## Import necessary packages\n",
    "import pandas as pd\n",
    "import numpy as np\n",
    "import tkinter as tk\n",
    "import PyPDF2 \n",
    "import tabula\n",
    "import tkinter\n",
    "import camelot\n",
    "import ghostscript\n",
    "import re\n",
    "import os\n",
    "import csv\n",
    "import urllib\n",
    "import io\n",
    "import warnings\n",
    "warnings.filterwarnings(\"ignore\")"
   ]
  },
  {
   "attachments": {},
   "cell_type": "markdown",
   "metadata": {},
   "source": [
    "## Nebraska\n",
    "Given that each of the four tables are brief and slightly unique, they are simply exported and then manually corrected in a spreadsheet GUI. \n",
    "Most of the formatting corrections are breaking up rows that were merged together."
   ]
  },
  {
   "cell_type": "code",
   "execution_count": 1082,
   "metadata": {},
   "outputs": [
    {
     "name": "stdout",
     "output_type": "stream",
     "text": [
      "Parsing Nebraska, 27/50...\n"
     ]
    },
    {
     "data": {
      "text/plain": [
       "5"
      ]
     },
     "execution_count": 1082,
     "metadata": {},
     "output_type": "execute_result"
    }
   ],
   "source": [
    "## (27) NEBRASKA\n",
    "print(\"Parsing Nebraska, 27/50...\")\n",
    "# get the full table\n",
    "ne_pdfs = camelot.read_pdf(\"http://dee.ne.gov/Publica.nsf/xsp/.ibmmodres/domino/OpenAttachment/Publica.nsf/52DA3EF6D595324E862588B500520595/Attach/SFY_2023_IUP_Final.pdf\",\n",
    "                               pages='46-49', flavor='stream', row_tol=15)\n",
    "len(ne_pdfs)"
   ]
  },
  {
   "cell_type": "code",
   "execution_count": null,
   "metadata": {},
   "outputs": [],
   "source": [
    "# manually switch the requested page and save to a different file\n",
    "ne = ne_pdfs[4].df\n",
    "ne.to_csv(\"ne_4.csv\", index=False)"
   ]
  }
 ],
 "metadata": {
  "kernelspec": {
   "display_name": "base",
   "language": "python",
   "name": "python3"
  },
  "language_info": {
   "codemirror_mode": {
    "name": "ipython",
    "version": 3
   },
   "file_extension": ".py",
   "mimetype": "text/x-python",
   "name": "python",
   "nbconvert_exporter": "python",
   "pygments_lexer": "ipython3",
   "version": "3.8.8"
  },
  "orig_nbformat": 4,
  "vscode": {
   "interpreter": {
    "hash": "40d3a090f54c6569ab1632332b64b2c03c39dcf918b08424e98f38b5ae0af88f"
   }
  }
 },
 "nbformat": 4,
 "nbformat_minor": 2
}
