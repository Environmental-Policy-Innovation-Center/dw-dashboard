{
 "cells": [
  {
   "cell_type": "code",
   "execution_count": null,
   "metadata": {},
   "outputs": [],
   "source": [
    "import pandas as pd\n",
    "import numpy as np\n",
    "import camelot.io as camelot\n",
    "import sys\n",
    "\n",
    " # adding folders up to system path to \n",
    " # access functions\n",
    "sys.path.insert(0, '../../../')\n",
    "from driveFolderHandler import downloadTempDriveFolder, deleteTempDriveFolder"
   ]
  },
  {
   "cell_type": "code",
   "execution_count": null,
   "metadata": {},
   "outputs": [],
   "source": [
    "path = \"../temp-docs\"\n",
    "downloadTempDriveFolder(folderID='10_ENJVjLzEjSlNDVgCTLWahAOMW0ky4j',\n",
    "                        path = path)"
   ]
  },
  {
   "attachments": {},
   "cell_type": "markdown",
   "metadata": {},
   "source": [
    "## Maine"
   ]
  },
  {
   "cell_type": "code",
   "execution_count": null,
   "metadata": {},
   "outputs": [],
   "source": [
    "me_pdfs = camelot.read_pdf(path+\"/ME_PPL_2023.pdf\",\n",
    "                               pages='all', flavor = 'stream')\n",
    "print(len(me_pdfs))"
   ]
  },
  {
   "cell_type": "code",
   "execution_count": null,
   "metadata": {},
   "outputs": [],
   "source": [
    "# pulls in two copies of the same table, keep only one\n",
    "me = me_pdfs[0].df\n",
    "me"
   ]
  },
  {
   "cell_type": "code",
   "execution_count": null,
   "metadata": {},
   "outputs": [],
   "source": [
    "# drop first four rows that include noise, whitespace, and mislabeled columns\n",
    "me = me.iloc[4:,].reset_index(drop = True)\n",
    "\n",
    "#split the water system name and PWSID into two columns, drop original column\n",
    "me[['Water.System','PWSID']] = me[1].str.split(\"\\n\", expand=True)\n",
    "me.drop(columns=[1], inplace=True)\n",
    "\n",
    "#rearrange columns\n",
    "me = me[[0, 'Water.System', 'PWSID', 2, 3, 4, 5, 6, 7, 8, 9]]\n",
    "\n",
    "#rename columns\n",
    "me.columns = ['Total.Priority.Points', 'Water.System', 'PWSID', 'Population.Served', 'SRF.Project.Number', 'Project.Type',\n",
    "                  '%.Annual.Water.Bill.of.MHI', 'Amount.Requested', 'PF%', 'ARPA/MJRP', 'Principal.Forgiveness']\n",
    "\n",
    "\n",
    "me.to_csv(\"year1/ME/data/19-Maine_PPL_Comprehensive.csv\", index=False)"
   ]
  },
  {
   "cell_type": "markdown",
   "metadata": {},
   "source": [
    "## Maine Backup List - Applicant Data"
   ]
  },
  {
   "cell_type": "code",
   "execution_count": null,
   "metadata": {},
   "outputs": [],
   "source": [
    "backup_pdf = camelot.read_pdf(path+\"/2022DWSRFBackupList.pdf\",\n",
    "                               pages='all', flavor = 'stream')\n",
    "print(len(backup_pdf))"
   ]
  },
  {
   "cell_type": "code",
   "execution_count": null,
   "metadata": {},
   "outputs": [],
   "source": [
    "backup = backup_pdf[0].df\n",
    "backup = backup.iloc[4:,].reset_index(drop = True)\n",
    "backup.columns = ['Total.Priority.Points', 'Water.System', 'PWSID', 'Population.Served', 'SRF.Project.Number', 'Project.Type',\n",
    "                  '%.Annual.Water.Bill.of.MHI', 'Amount.Requested', 'PF%', 'ARPA/MJRP', 'Principal.Forgiveness']\n",
    "\n",
    "backup.to_csv(\"../data/19-Maine_PPL_BackupList.csv\", index=False)"
   ]
  },
  {
   "cell_type": "code",
   "execution_count": null,
   "metadata": {},
   "outputs": [],
   "source": [
    "deleteTempDriveFolder(path)"
   ]
  }
 ],
 "metadata": {
  "kernelspec": {
   "display_name": "base",
   "language": "python",
   "name": "python3"
  },
  "language_info": {
   "codemirror_mode": {
    "name": "ipython",
    "version": 3
   },
   "file_extension": ".py",
   "mimetype": "text/x-python",
   "name": "python",
   "nbconvert_exporter": "python",
   "pygments_lexer": "ipython3",
   "version": "3.11.4"
  },
  "orig_nbformat": 4,
  "vscode": {
   "interpreter": {
    "hash": "40d3a090f54c6569ab1632332b64b2c03c39dcf918b08424e98f38b5ae0af88f"
   }
  }
 },
 "nbformat": 4,
 "nbformat_minor": 2
}
