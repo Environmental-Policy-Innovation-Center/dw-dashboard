{
 "cells": [
  {
   "cell_type": "code",
   "execution_count": 1,
   "metadata": {},
   "outputs": [],
   "source": [
    "## Import necessary packages\n",
    "import pandas as pd\n",
    "import numpy as np\n",
    "import camelot\n",
    "import warnings\n",
    "warnings.filterwarnings(\"ignore\")"
   ]
  },
  {
   "attachments": {},
   "cell_type": "markdown",
   "metadata": {},
   "source": [
    "##  Indiana\n",
    "\n",
    "### Q4 Final PPL\n",
    "\n",
    "Previous parsing efforts included previous quarters, but it has been determined that each quarter's lists are both comprehensive and complete, so we only need the final tables from the Q4 documents."
   ]
  },
  {
   "cell_type": "code",
   "execution_count": 2,
   "metadata": {},
   "outputs": [
    {
     "name": "stdout",
     "output_type": "stream",
     "text": [
      "Parsing...\n",
      "2\n"
     ]
    }
   ],
   "source": [
    "print(\"Parsing...\")\n",
    "# get the full table\n",
    "in_pdf_1 = camelot.read_pdf(\"https://www.in.gov/ifa/srf/files/Revised-DWSRF-2023-DW-Project-Priority-List-Q4-Final-6.5.23.pdf\", \n",
    "                           pages='1-2', flavor='stream', row_tol=10)\n",
    "print(len(in_pdf_1))"
   ]
  },
  {
   "cell_type": "code",
   "execution_count": 3,
   "metadata": {},
   "outputs": [],
   "source": [
    "# read in first page\n",
    "in_ppl_1 = in_pdf_1[0].df\n",
    "\n",
    "# set columns\n",
    "in_ppl_1.columns = ['PPL Rank', 'PPL Score', 'Participant', 'MHI', 'Population Served', 'PWSID No(s).', 'SRF Project No.', 'Project Description',\n",
    "                'Lead Service Line Replacement Cost', 'Emerging Contaminants?', 'Disadvantaged Community?', 'Estimated Green Project Reserve Cost',\n",
    "                'Green Project Reserve Category', 'Current User Rate (per 4,000 gallons)', 'Estimated Post-Project User Rate (per 4,000 gallons)', 'Requested Funds',\n",
    "                'Cumulative Requested Funds']\n",
    "\n",
    "# remove column name rows\n",
    "in_ppl_1 = in_ppl_1.iloc[3:,].copy()\n",
    "\n",
    "# prep for merging with others\n",
    "in_ppl_1 = in_ppl_1.reset_index(drop=True)"
   ]
  },
  {
   "cell_type": "code",
   "execution_count": 4,
   "metadata": {},
   "outputs": [],
   "source": [
    "# read remainder of first table before it transitions to applicant only projects\n",
    "in_ppl_2 = in_pdf_1[1].df.iloc[:30,].copy()\n",
    "\n",
    "# set Rank and Score as one column because they were mixed together\n",
    "in_ppl_2.columns = ['Rank.Score', 'Participant', 'MHI', 'Population Served', 'PWSID No(s).', 'SRF Project No.', 'Project Description',\n",
    "                'Lead Service Line Replacement Cost', 'Emerging Contaminants?', 'Disadvantaged Community?', 'Estimated Green Project Reserve Cost',\n",
    "                'Green Project Reserve Category', 'Current User Rate (per 4,000 gallons)', 'Estimated Post-Project User Rate (per 4,000 gallons)', 'Requested Funds',\n",
    "                'Cumulative Requested Funds']\n",
    "\n",
    "# split rank and score into two columns and drop the temp column\n",
    "in_ppl_2[['PPL Rank', 'PPL Score']] = in_ppl_2['Rank.Score'].str.split(\"\\n\", expand=True)\n",
    "in_ppl_2 = in_ppl_2.drop(columns=['Rank.Score']).copy()\n",
    "\n",
    "# reset and reorder columns to prep for merge\n",
    "in_ppl_2 = in_ppl_2[['PPL Rank', 'PPL Score', 'Participant', 'MHI', 'Population Served', 'PWSID No(s).', 'SRF Project No.', 'Project Description',\n",
    "                'Lead Service Line Replacement Cost', 'Emerging Contaminants?', 'Disadvantaged Community?', 'Estimated Green Project Reserve Cost',\n",
    "                'Green Project Reserve Category', 'Current User Rate (per 4,000 gallons)', 'Estimated Post-Project User Rate (per 4,000 gallons)', 'Requested Funds',\n",
    "                'Cumulative Requested Funds']].copy()\n",
    "\n",
    "in_ppl_2 = in_ppl_2.reset_index(drop=True)"
   ]
  },
  {
   "cell_type": "code",
   "execution_count": 5,
   "metadata": {},
   "outputs": [],
   "source": [
    "# isolate application only table because it combines rank and score into one feature\n",
    "in_ppl_3 = in_pdf_1[1].df.iloc[34:39,].copy()\n",
    "\n",
    "# set columns and prep for merging\n",
    "in_ppl_3.columns = ['PPL Rank', 'Participant', 'MHI', 'Population Served', 'PWSID No(s).', 'SRF Project No.', 'Project Description',\n",
    "                'Lead Service Line Replacement Cost', 'Emerging Contaminants?', 'Disadvantaged Community?', 'Estimated Green Project Reserve Cost',\n",
    "                'Green Project Reserve Category', 'Current User Rate (per 4,000 gallons)', 'Estimated Post-Project User Rate (per 4,000 gallons)', 'Requested Funds',\n",
    "                'Cumulative Requested Funds']\n",
    "\n",
    "in_ppl_3 = in_ppl_3.reset_index(drop=True)"
   ]
  },
  {
   "cell_type": "code",
   "execution_count": 6,
   "metadata": {},
   "outputs": [],
   "source": [
    "# combine and export to csv\n",
    "in_ppl_output = pd.concat([in_ppl_1, in_ppl_2, in_ppl_3], ignore_index=True)\n",
    "\n",
    "in_ppl_output.to_csv(\"../data/year1/csv/14-Indiana_Q4Final_PPL.csv\", index=False)"
   ]
  },
  {
   "cell_type": "markdown",
   "metadata": {},
   "source": [
    "### Final Lead PPL "
   ]
  },
  {
   "cell_type": "code",
   "execution_count": 7,
   "metadata": {},
   "outputs": [
    {
     "name": "stdout",
     "output_type": "stream",
     "text": [
      "Parsing...\n",
      "1\n"
     ]
    }
   ],
   "source": [
    "print(\"Parsing...\")\n",
    "# get the full table\n",
    "in_pdf_2 = camelot.read_pdf(\"https://www.in.gov/ifa/srf/files/Revised-DWSRF-2023-Lead-Service-Line-Replacement-Project-Priority-List-Q4-Final-6.5.23.pdf\", \n",
    "                           pages='1', flavor='stream', row_tol=10)\n",
    "print(len(in_pdf_2))"
   ]
  },
  {
   "cell_type": "code",
   "execution_count": 8,
   "metadata": {},
   "outputs": [],
   "source": [
    "in_lead_ppl = in_pdf_2[0].df\n",
    "\n",
    "in_lead_ppl.columns = ['PPL Rank', 'PPL Score', 'Participant', 'MHI', 'Population Served', 'PWSID No(s).', 'SRF Project No.', 'Project Description',\n",
    "                'Lead Service Line Replacement Cost', 'Emerging Contaminants?', 'Disadvantaged Community?', 'Estimated Green Project Reserve Cost',\n",
    "                'Green Project Reserve Category', 'Current User Rate (per 4,000 gallons)', 'Estimated Post-Project User Rate (per 4,000 gallons)', 'Requested Funds',\n",
    "                'Cumulative Requested Funds']\n",
    "\n",
    "in_lead_ppl = in_lead_ppl.iloc[5:14,].reset_index(drop=True).copy()"
   ]
  },
  {
   "cell_type": "code",
   "execution_count": 9,
   "metadata": {},
   "outputs": [],
   "source": [
    "in_lead_ppl.to_csv(\"../data/year1/csv/14-Indiana_Q4Final_LeadPPL.csv\", index=False)"
   ]
  },
  {
   "cell_type": "markdown",
   "metadata": {},
   "source": [
    "### "
   ]
  }
 ],
 "metadata": {
  "kernelspec": {
   "display_name": "base",
   "language": "python",
   "name": "python3"
  },
  "language_info": {
   "codemirror_mode": {
    "name": "ipython",
    "version": 3
   },
   "file_extension": ".py",
   "mimetype": "text/x-python",
   "name": "python",
   "nbconvert_exporter": "python",
   "pygments_lexer": "ipython3",
   "version": "3.11.4"
  },
  "orig_nbformat": 4,
  "vscode": {
   "interpreter": {
    "hash": "40d3a090f54c6569ab1632332b64b2c03c39dcf918b08424e98f38b5ae0af88f"
   }
  }
 },
 "nbformat": 4,
 "nbformat_minor": 2
}
