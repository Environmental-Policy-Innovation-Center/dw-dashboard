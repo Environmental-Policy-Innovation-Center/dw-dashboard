{
 "cells": [
  {
   "cell_type": "markdown",
   "metadata": {},
   "source": [
    "## GOOGLE DRIVE FUNCTIONS"
   ]
  },
  {
   "cell_type": "code",
   "execution_count": 11,
   "metadata": {},
   "outputs": [
    {
     "name": "stderr",
     "output_type": "stream",
     "text": [
      "Retrieving folder list\n"
     ]
    },
    {
     "name": "stdout",
     "output_type": "stream",
     "text": [
      "Processing file 1weUV7OmOvBiXobPf79x2T7lFru2xsexj 2022-DWSRF-IUP-1.pdf\n",
      "Building directory structure completed\n"
     ]
    },
    {
     "name": "stderr",
     "output_type": "stream",
     "text": [
      "Retrieving folder list completed\n",
      "Building directory structure\n",
      "Downloading...\n",
      "From: https://drive.google.com/uc?id=1weUV7OmOvBiXobPf79x2T7lFru2xsexj\n",
      "To: /Users/pcork/epic/dw-dashboard/year1/AL/temp-docs/2022-DWSRF-IUP-1.pdf\n",
      "100%|██████████| 746k/746k [00:00<00:00, 4.45MB/s]\n",
      "Download completed\n"
     ]
    }
   ],
   "source": [
    "import gdown\n",
    "\n",
    "# this can be a dictionary of all Google Drive IDs once the files are created so that in use,\n",
    "# a user only need give the year and state abbreviation path and it will download the correct folder\n",
    "# and then output it into the correct folder on their local machine / github while in use and then it can be deleted\n",
    "folder_ids = {\n",
    "    'year1/AL':'16GVk_dJuAlg42fo7u5rcCdyr725Y6hVj'\n",
    "}\n",
    "\n",
    "def downloadDriveFolder(path):\n",
    "    \n",
    "    gdown.download_folder(id= folder_ids.get(path), \n",
    "                          output= path + \"/temp-docs\", \n",
    "                          quiet= False, \n",
    "                          use_cookies= False)\n",
    "    \n",
    "downloadDriveFolder('year1/AL')"
   ]
  },
  {
   "cell_type": "code",
   "execution_count": 10,
   "metadata": {},
   "outputs": [],
   "source": [
    "import shutil\n",
    "def deleteTempFiles(path):\n",
    "    shutil.rmtree(path + '/temp-docs')\n",
    "\n",
    "deleteTempFiles('year1/AL')"
   ]
  },
  {
   "cell_type": "markdown",
   "metadata": {},
   "source": [
    "## THE INDIVIDUAL FILES"
   ]
  },
  {
   "cell_type": "code",
   "execution_count": 13,
   "metadata": {},
   "outputs": [],
   "source": [
    "import camelot\n",
    "import pandas as pd"
   ]
  },
  {
   "cell_type": "code",
   "execution_count": 16,
   "metadata": {},
   "outputs": [
    {
     "name": "stdout",
     "output_type": "stream",
     "text": [
      "1\n"
     ]
    }
   ],
   "source": [
    "# get the full table\n",
    "test_pdf = camelot.read_pdf(\"year1/AL/temp-docs/2022-DWSRF-IUP-1.pdf\",\n",
    "                             pages='12', flavor = 'stream')\n",
    "print(len(test_pdf))"
   ]
  },
  {
   "cell_type": "code",
   "execution_count": 18,
   "metadata": {},
   "outputs": [
    {
     "data": {
      "text/html": [
       "<div>\n",
       "<style scoped>\n",
       "    .dataframe tbody tr th:only-of-type {\n",
       "        vertical-align: middle;\n",
       "    }\n",
       "\n",
       "    .dataframe tbody tr th {\n",
       "        vertical-align: top;\n",
       "    }\n",
       "\n",
       "    .dataframe thead th {\n",
       "        text-align: right;\n",
       "    }\n",
       "</style>\n",
       "<table border=\"1\" class=\"dataframe\">\n",
       "  <thead>\n",
       "    <tr style=\"text-align: right;\">\n",
       "      <th></th>\n",
       "      <th>0</th>\n",
       "      <th>1</th>\n",
       "      <th>2</th>\n",
       "      <th>3</th>\n",
       "      <th>4</th>\n",
       "      <th>5</th>\n",
       "      <th>6</th>\n",
       "      <th>7</th>\n",
       "      <th>8</th>\n",
       "      <th>9</th>\n",
       "      <th>10</th>\n",
       "      <th>11</th>\n",
       "      <th>12</th>\n",
       "      <th>13</th>\n",
       "      <th>14</th>\n",
       "      <th>15</th>\n",
       "      <th>16</th>\n",
       "      <th>17</th>\n",
       "      <th>18</th>\n",
       "    </tr>\n",
       "  </thead>\n",
       "  <tbody>\n",
       "    <tr>\n",
       "      <th>0</th>\n",
       "      <td></td>\n",
       "      <td></td>\n",
       "      <td></td>\n",
       "      <td></td>\n",
       "      <td></td>\n",
       "      <td></td>\n",
       "      <td></td>\n",
       "      <td></td>\n",
       "      <td></td>\n",
       "      <td></td>\n",
       "      <td>ATTACHMENT 1</td>\n",
       "      <td></td>\n",
       "      <td></td>\n",
       "      <td></td>\n",
       "      <td></td>\n",
       "      <td></td>\n",
       "      <td></td>\n",
       "      <td></td>\n",
       "      <td></td>\n",
       "    </tr>\n",
       "    <tr>\n",
       "      <th>1</th>\n",
       "      <td></td>\n",
       "      <td></td>\n",
       "      <td></td>\n",
       "      <td></td>\n",
       "      <td></td>\n",
       "      <td></td>\n",
       "      <td></td>\n",
       "      <td></td>\n",
       "      <td></td>\n",
       "      <td></td>\n",
       "      <td>Drinking Water State Revolving Fund</td>\n",
       "      <td></td>\n",
       "      <td></td>\n",
       "      <td></td>\n",
       "      <td></td>\n",
       "      <td></td>\n",
       "      <td></td>\n",
       "      <td></td>\n",
       "      <td></td>\n",
       "    </tr>\n",
       "    <tr>\n",
       "      <th>2</th>\n",
       "      <td></td>\n",
       "      <td></td>\n",
       "      <td></td>\n",
       "      <td></td>\n",
       "      <td></td>\n",
       "      <td></td>\n",
       "      <td></td>\n",
       "      <td></td>\n",
       "      <td></td>\n",
       "      <td></td>\n",
       "      <td>2022 Comprehensive List</td>\n",
       "      <td></td>\n",
       "      <td></td>\n",
       "      <td></td>\n",
       "      <td></td>\n",
       "      <td></td>\n",
       "      <td></td>\n",
       "      <td></td>\n",
       "      <td></td>\n",
       "    </tr>\n",
       "    <tr>\n",
       "      <th>3</th>\n",
       "      <td>Community</td>\n",
       "      <td>Project Score</td>\n",
       "      <td></td>\n",
       "      <td>Population</td>\n",
       "      <td></td>\n",
       "      <td>Total Project Cost</td>\n",
       "      <td></td>\n",
       "      <td>Affordability Score</td>\n",
       "      <td></td>\n",
       "      <td>Potential Principal Forgiveness</td>\n",
       "      <td>Est. Notice to Proceed</td>\n",
       "      <td>Est. Construction Start</td>\n",
       "      <td></td>\n",
       "      <td>Est. Construction Completion</td>\n",
       "      <td>Est. Interst Rate</td>\n",
       "      <td></td>\n",
       "      <td>Est. Terms</td>\n",
       "      <td></td>\n",
       "      <td>Project Description</td>\n",
       "    </tr>\n",
       "    <tr>\n",
       "      <th>4</th>\n",
       "      <td>Lone Oak</td>\n",
       "      <td></td>\n",
       "      <td>65</td>\n",
       "      <td></td>\n",
       "      <td>77</td>\n",
       "      <td></td>\n",
       "      <td>$60,000</td>\n",
       "      <td></td>\n",
       "      <td>28</td>\n",
       "      <td></td>\n",
       "      <td>4/1/2022</td>\n",
       "      <td></td>\n",
       "      <td>4/1/2022</td>\n",
       "      <td>5/31/2022</td>\n",
       "      <td></td>\n",
       "      <td>1.13%</td>\n",
       "      <td></td>\n",
       "      <td></td>\n",
       "      <td>20 Water Meter Replacement</td>\n",
       "    </tr>\n",
       "  </tbody>\n",
       "</table>\n",
       "</div>"
      ],
      "text/plain": [
       "          0              1   2           3   4                   5        6   \\\n",
       "0                                                                              \n",
       "1                                                                              \n",
       "2                                                                              \n",
       "3  Community  Project Score      Population      Total Project Cost            \n",
       "4   Lone Oak                 65              77                      $60,000   \n",
       "\n",
       "                    7   8                                9   \\\n",
       "0                                                             \n",
       "1                                                             \n",
       "2                                                             \n",
       "3  Affordability Score      Potential Principal Forgiveness   \n",
       "4                       28                                    \n",
       "\n",
       "                                    10                       11        12  \\\n",
       "0                         ATTACHMENT 1                                      \n",
       "1  Drinking Water State Revolving Fund                                      \n",
       "2              2022 Comprehensive List                                      \n",
       "3               Est. Notice to Proceed  Est. Construction Start             \n",
       "4                             4/1/2022                           4/1/2022   \n",
       "\n",
       "                             13                 14     15          16 17  \\\n",
       "0                                                                          \n",
       "1                                                                          \n",
       "2                                                                          \n",
       "3  Est. Construction Completion  Est. Interst Rate         Est. Terms      \n",
       "4                     5/31/2022                     1.13%                  \n",
       "\n",
       "                           18  \n",
       "0                              \n",
       "1                              \n",
       "2                              \n",
       "3         Project Description  \n",
       "4  20 Water Meter Replacement  "
      ]
     },
     "execution_count": 18,
     "metadata": {},
     "output_type": "execute_result"
    }
   ],
   "source": [
    "test_pdf[0].df.head()"
   ]
  }
 ],
 "metadata": {
  "kernelspec": {
   "display_name": "Python 3",
   "language": "python",
   "name": "python3"
  },
  "language_info": {
   "codemirror_mode": {
    "name": "ipython",
    "version": 3
   },
   "file_extension": ".py",
   "mimetype": "text/x-python",
   "name": "python",
   "nbconvert_exporter": "python",
   "pygments_lexer": "ipython3",
   "version": "3.11.4"
  }
 },
 "nbformat": 4,
 "nbformat_minor": 2
}
