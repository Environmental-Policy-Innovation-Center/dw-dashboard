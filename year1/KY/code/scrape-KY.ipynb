{
 "cells": [
  {
   "cell_type": "code",
   "execution_count": 1,
   "metadata": {},
   "outputs": [],
   "source": [
    "import pandas as pd\n",
    "import numpy as np\n",
    "import camelot\n",
    "\n"
   ]
  },
  {
   "cell_type": "code",
   "execution_count": 2,
   "metadata": {},
   "outputs": [
    {
     "name": "stdout",
     "output_type": "stream",
     "text": [
      "6\n"
     ]
    }
   ],
   "source": [
    "#TODO: replace file/link with functions that call Google Drive folder when sharing permissions are updated.\n",
    "ky_pdfs = camelot.read_pdf(\"../temp/2023 DWSRF FINAL IUP.pdf\",\n",
    "                               pages='32-36', flavor = 'stream', row_tol=8)\n",
    "print(len(ky_pdfs))"
   ]
  },
  {
   "cell_type": "code",
   "execution_count": 3,
   "metadata": {},
   "outputs": [
    {
     "data": {
      "text/plain": [
       "19"
      ]
     },
     "execution_count": 3,
     "metadata": {},
     "output_type": "execute_result"
    }
   ],
   "source": [
    "def fixSplitRowsforOneColumn(df, rowstoDrop:list, col:int):\n",
    "    for rowtoDrop in rowstoDrop:\n",
    "        rowtoKeep = rowtoDrop - 1\n",
    "        df.iloc[rowtoKeep, col] = df.iloc[rowtoKeep, col] + \" \" + df.iloc[rowtoDrop, col]\n",
    "\n",
    "    df = df.drop(df.index[rowstoDrop]).copy().reset_index(drop=True)\n",
    "    return df\n",
    "\n",
    "ky_cols = ['Rank', 'Score', 'KIA Loan Number', 'WRIS Number', 'Applicant', 'Project Title', 'Total Project Cost',\n",
    "           'Requested Loan Amount', 'Invited Loan Amount Base', 'Cumulative Invited Loan Amount Base', 'Invited Loan Amount Supplemental', \n",
    "           'Cumulative Invited Loan Amount Supplemental', 'Invited Loan Amount Lead Service Line', 'Cumulative Invited Loan Amount LSLR', \n",
    "           'Principal Forgiveness Amount', 'Cumulative Principal Forgiveness', 'Invite Round No. Bypassed', 'System Population', 'System MHI']\n",
    "\n",
    "len(ky_cols)"
   ]
  },
  {
   "cell_type": "code",
   "execution_count": 4,
   "metadata": {},
   "outputs": [],
   "source": [
    "ky_0 = ky_pdfs[0].df\n",
    "ky_0 = ky_0.iloc[3:,].copy().reset_index(drop=True)\n",
    "\n",
    "\n",
    "ky_0 = fixSplitRowsforOneColumn(df=ky_0, \n",
    "                                rowstoDrop=[1,3,8, 10, 12, 14, 17, 22, 25, 33, 37, 41, 43, 45, 47, 49], \n",
    "                                col=5)\n",
    "\n",
    "ky_0 = ky_0.replace(\"\\n\", \" \", regex=True)\n",
    "\n",
    "# combine columns then drop excess\n",
    "ky_0[8] = ky_0[8] + ky_0[9]\n",
    "ky_0[14] = ky_0[14] + ky_0[15]\n",
    "ky_0.drop([9, 15], axis=1, inplace=True)\n",
    "\n",
    "ky_0.columns = ky_cols"
   ]
  },
  {
   "cell_type": "code",
   "execution_count": 5,
   "metadata": {},
   "outputs": [],
   "source": [
    "# skip to page 2 because 1 is a repeat of 0\n",
    "ky_2 = ky_pdfs[2].df\n",
    "ky_2 = ky_2.iloc[3:,].copy().reset_index(drop=True)\n",
    "\n",
    "ky_2 = fixSplitRowsforOneColumn(df=ky_2, \n",
    "                                rowstoDrop=[2,10,14,22,26,28,32,40,42], \n",
    "                                col=5)\n",
    "\n",
    "ky_2 = ky_2.replace(\"\\n\", \" \", regex=True)\n",
    "\n",
    "# combine columns then drop excess\n",
    "ky_2[8] = ky_2[8] + ky_2[9]\n",
    "ky_2[14] = ky_2[14] + ky_2[15]\n",
    "ky_2.drop([9, 15], axis=1, inplace=True)\n",
    "\n",
    "ky_2.columns = ky_cols\n"
   ]
  },
  {
   "cell_type": "code",
   "execution_count": null,
   "metadata": {},
   "outputs": [],
   "source": [
    "ky_3 = ky_pdfs[3].df\n",
    "ky_3 = ky_3.iloc[5:,].copy().reset_index(drop=True)\n",
    "\n",
    "ky_3 = fixSplitRowsforOneColumn(df=ky_3, \n",
    "                                rowstoDrop=[1,6,11,14,18,20,22,24,29, 35,37,40,43,45], \n",
    "                                col=5)\n",
    "\n",
    "ky_3 = ky_3.replace(\"\\n\", \" \", regex=True)\n",
    "\n",
    "# combine columns then drop excess\n",
    "ky_3[8] = ky_3[8] + ky_3[9]\n",
    "ky_3[14] = ky_3[14] + ky_3[15]\n",
    "ky_3.drop([9, 15], axis=1, inplace=True)\n",
    "\n",
    "ky_3.columns = ky_cols"
   ]
  },
  {
   "cell_type": "code",
   "execution_count": 7,
   "metadata": {},
   "outputs": [],
   "source": [
    "ky_4 = ky_pdfs[4].df\n",
    "ky_4 = ky_4.iloc[3:,].copy().reset_index(drop=True)\n",
    "\n",
    "ky_4 = fixSplitRowsforOneColumn(df=ky_4, \n",
    "                                rowstoDrop=[2,4,11,16,19,23,27,30,33,39,41,43], \n",
    "                                col=5)\n",
    "\n",
    "ky_4 = ky_4.replace(\"\\n\", \" \", regex=True)\n",
    "\n",
    "# combine columns then drop excess\n",
    "ky_4[8] = ky_4[8] + ky_4[9]\n",
    "ky_4[14] = ky_4[14] + ky_4[15]\n",
    "ky_4.drop([9, 15], axis=1, inplace=True)\n",
    "\n",
    "ky_4.columns = ky_cols"
   ]
  },
  {
   "cell_type": "code",
   "execution_count": 8,
   "metadata": {},
   "outputs": [],
   "source": [
    "ky_5 = ky_pdfs[5].df\n",
    "ky_5 = ky_5.iloc[4:,].copy().reset_index(drop=True)\n",
    "\n",
    "ky_5 = fixSplitRowsforOneColumn(df=ky_5, \n",
    "                                rowstoDrop=[1,4], \n",
    "                                col=5)\n",
    "\n",
    "ky_5 = ky_5.replace(\"\\n\", \" \", regex=True)\n",
    "\n",
    "# combine columns then drop excess\n",
    "ky_5[8] = ky_5[8] + ky_5[9]\n",
    "ky_5.drop([9], axis=1, inplace=True)\n",
    "\n",
    "ky_5.columns = ky_cols"
   ]
  },
  {
   "cell_type": "code",
   "execution_count": 9,
   "metadata": {},
   "outputs": [],
   "source": [
    "ky_output = pd.concat([ky_0, ky_2, ky_3, ky_4, ky_5], ignore_index=True).copy().reset_index(drop=True)"
   ]
  },
  {
   "cell_type": "code",
   "execution_count": 10,
   "metadata": {},
   "outputs": [],
   "source": [
    "ky_output.to_csv(\"../data/KY-iup-appendix2.csv\", index=False)"
   ]
  }
 ],
 "metadata": {
  "kernelspec": {
   "display_name": "Python 3",
   "language": "python",
   "name": "python3"
  },
  "language_info": {
   "codemirror_mode": {
    "name": "ipython",
    "version": 3
   },
   "file_extension": ".py",
   "mimetype": "text/x-python",
   "name": "python",
   "nbconvert_exporter": "python",
   "pygments_lexer": "ipython3",
   "version": "3.11.4"
  }
 },
 "nbformat": 4,
 "nbformat_minor": 2
}
