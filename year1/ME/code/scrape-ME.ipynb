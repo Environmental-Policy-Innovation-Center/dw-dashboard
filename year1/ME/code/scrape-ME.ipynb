{
 "cells": [
  {
   "cell_type": "code",
   "execution_count": 1,
   "metadata": {},
   "outputs": [],
   "source": [
    "import pandas as pd\n",
    "import numpy as np\n",
    "import camelot\n",
    "import sys\n",
    "\n",
    " # adding folders up to system path to access functions\n",
    "sys.path.insert(0, '../../../')\n",
    "from driveFolderHandler import downloadTempDriveFolder, deleteTempDriveFolder"
   ]
  },
  {
   "cell_type": "code",
   "execution_count": 2,
   "metadata": {},
   "outputs": [
    {
     "name": "stderr",
     "output_type": "stream",
     "text": [
      "Retrieving folder list\n"
     ]
    },
    {
     "name": "stdout",
     "output_type": "stream",
     "text": [
      "Processing file 18E0tw33-IZoOfUcDfuelCfGtXEuKm37K ME_IUP_2023.pdf\n",
      "Processing file 15rAbOTEfdvj18KaagWGKDeBQN28yCaYL ME_PPL_2023.pdf\n",
      "Building directory structure completed\n"
     ]
    },
    {
     "name": "stderr",
     "output_type": "stream",
     "text": [
      "Retrieving folder list completed\n",
      "Building directory structure\n",
      "Downloading...\n",
      "From: https://drive.google.com/uc?id=18E0tw33-IZoOfUcDfuelCfGtXEuKm37K\n",
      "To: /Users/pcork/epic/dw-dashboard/year1/ME/temp-docs/ME_IUP_2023.pdf\n",
      "100%|██████████| 1.90M/1.90M [00:00<00:00, 7.52MB/s]\n",
      "Downloading...\n",
      "From: https://drive.google.com/uc?id=15rAbOTEfdvj18KaagWGKDeBQN28yCaYL\n",
      "To: /Users/pcork/epic/dw-dashboard/year1/ME/temp-docs/ME_PPL_2023.pdf\n",
      "100%|██████████| 214k/214k [00:00<00:00, 3.17MB/s]"
     ]
    },
    {
     "name": "stdout",
     "output_type": "stream",
     "text": [
      "Files stored in ../temp-docs\n"
     ]
    },
    {
     "name": "stderr",
     "output_type": "stream",
     "text": [
      "\n",
      "Download completed\n"
     ]
    }
   ],
   "source": [
    "path = \"../temp-docs\"\n",
    "downloadTempDriveFolder(folderID='10_ENJVjLzEjSlNDVgCTLWahAOMW0ky4j',\n",
    "                        path = path)"
   ]
  },
  {
   "attachments": {},
   "cell_type": "markdown",
   "metadata": {},
   "source": [
    "## Maine"
   ]
  },
  {
   "cell_type": "code",
   "execution_count": 3,
   "metadata": {},
   "outputs": [
    {
     "name": "stdout",
     "output_type": "stream",
     "text": [
      "Parsing Maine, 19/50\n",
      "2\n"
     ]
    }
   ],
   "source": [
    "\n",
    "me_pdfs = camelot.read_pdf(path+\"/ME_PPL_2023.pdf\",\n",
    "                               pages='all', flavor = 'stream')\n",
    "print(len(me_pdfs))"
   ]
  },
  {
   "cell_type": "code",
   "execution_count": null,
   "metadata": {},
   "outputs": [],
   "source": [
    "# pulls in two copies of the same table, keep only one\n",
    "me = me_pdfs[0].df\n",
    "me"
   ]
  },
  {
   "cell_type": "code",
   "execution_count": null,
   "metadata": {},
   "outputs": [],
   "source": [
    "# drop first four rows that include noise, whitespace, and mislabeled columns\n",
    "me = me.iloc[4:,].reset_index(drop = True)\n",
    "\n",
    "#split the water system name and PWSID into two columns, drop original column\n",
    "me[['Water.System','PWSID']] = me[1].str.split(\"\\n\", expand=True)\n",
    "me.drop(columns=[1], inplace=True)\n",
    "\n",
    "#rearrange columns\n",
    "me = me[[0, 'Water.System', 'PWSID', 2, 3, 4, 5, 6, 7, 8, 9]]\n",
    "\n",
    "#rename columns\n",
    "me.columns = ['Total.Priority.Points', 'Water.System', 'PWSID', 'Population.Served', 'SRF.Project.Number', 'Project.Type',\n",
    "                  '%.Annual.Water.Bill.of.MHI', 'Amount.Requested', 'PF%', 'ARPA/MJRP', 'Principal.Forgiveness']\n",
    "\n",
    "\n",
    "me.to_csv(\"final_ppls/19-Maine_PPL_Comprehensive.csv\", index=False)"
   ]
  },
  {
   "cell_type": "code",
   "execution_count": 4,
   "metadata": {},
   "outputs": [
    {
     "name": "stdout",
     "output_type": "stream",
     "text": [
      "Deleted folder and all files within ../temp-docs\n"
     ]
    }
   ],
   "source": [
    "deleteTempDriveFolder(path)"
   ]
  }
 ],
 "metadata": {
  "kernelspec": {
   "display_name": "base",
   "language": "python",
   "name": "python3"
  },
  "language_info": {
   "codemirror_mode": {
    "name": "ipython",
    "version": 3
   },
   "file_extension": ".py",
   "mimetype": "text/x-python",
   "name": "python",
   "nbconvert_exporter": "python",
   "pygments_lexer": "ipython3",
   "version": "3.11.4"
  },
  "orig_nbformat": 4,
  "vscode": {
   "interpreter": {
    "hash": "40d3a090f54c6569ab1632332b64b2c03c39dcf918b08424e98f38b5ae0af88f"
   }
  }
 },
 "nbformat": 4,
 "nbformat_minor": 2
}
