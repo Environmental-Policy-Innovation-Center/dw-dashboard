{
 "cells": [
  {
   "cell_type": "code",
   "execution_count": 1,
   "metadata": {},
   "outputs": [],
   "source": [
    "import pandas as pd\n",
    "import numpy as np\n",
    "import camelot\n",
    "import ghostscript\n",
    "import sys\n",
    " \n",
    " # adding folders up to system path to access functions\n",
    "sys.path.insert(0, '../../../')\n",
    "from driveFolderHandler import downloadTempDriveFolder, deleteTempDriveFolder"
   ]
  },
  {
   "cell_type": "code",
   "execution_count": 8,
   "metadata": {},
   "outputs": [
    {
     "name": "stderr",
     "output_type": "stream",
     "text": [
      "Retrieving folder list\n"
     ]
    },
    {
     "name": "stdout",
     "output_type": "stream",
     "text": [
      "Processing file 13LDzUM-CkR8Ec6YNREB_lbw_QIMaEaU6 20230629-SFY-2023-Final-IUPwatt--bookmarks.pdf\n",
      "Processing file 12UO17vT6Sbema4zHhJioCIDQAISdb5oa Base-Supplemental-Project-Priority-List-for-SFY-2023.pdf\n",
      "Building directory structure completed\n"
     ]
    },
    {
     "name": "stderr",
     "output_type": "stream",
     "text": [
      "Retrieving folder list completed\n",
      "Building directory structure\n",
      "Downloading...\n",
      "From: https://drive.google.com/uc?id=13LDzUM-CkR8Ec6YNREB_lbw_QIMaEaU6\n",
      "To: /Users/pcork/epic/dw-dashboard/year1/CT/temp-docs/20230629-SFY-2023-Final-IUPwatt--bookmarks.pdf\n",
      "100%|██████████| 2.26M/2.26M [00:00<00:00, 13.7MB/s]\n",
      "Downloading...\n",
      "From: https://drive.google.com/uc?id=12UO17vT6Sbema4zHhJioCIDQAISdb5oa\n",
      "To: /Users/pcork/epic/dw-dashboard/year1/CT/temp-docs/Base-Supplemental-Project-Priority-List-for-SFY-2023.pdf\n",
      "100%|██████████| 181k/181k [00:00<00:00, 2.36MB/s]"
     ]
    },
    {
     "name": "stdout",
     "output_type": "stream",
     "text": [
      "Files stored in ../temp-docs\n"
     ]
    },
    {
     "name": "stderr",
     "output_type": "stream",
     "text": [
      "\n",
      "Download completed\n"
     ]
    }
   ],
   "source": [
    "path = \"../temp-docs\"\n",
    "downloadTempDriveFolder(folderID='1oEDuvOrZHaDrbn_BK8Djxr6XAzFYUTx_',\n",
    "                        path=path)"
   ]
  },
  {
   "cell_type": "code",
   "execution_count": 9,
   "metadata": {},
   "outputs": [
    {
     "name": "stdout",
     "output_type": "stream",
     "text": [
      "9\n"
     ]
    }
   ],
   "source": [
    "ct_attachmentD = camelot.read_pdf(path+\"/20230629-SFY-2023-Final-IUPwatt--bookmarks.pdf\", \n",
    "                           pages='84-92', flavor='stream')\n",
    "print(len(ct_attachmentD))"
   ]
  },
  {
   "cell_type": "markdown",
   "metadata": {},
   "source": [
    "### CT IUP Attachment D"
   ]
  },
  {
   "cell_type": "code",
   "execution_count": 21,
   "metadata": {},
   "outputs": [
    {
     "name": "stdout",
     "output_type": "stream",
     "text": [
      "20\n"
     ]
    }
   ],
   "source": [
    "ct_attachmentD = camelot.read_pdf(path+\"/20230629-SFY-2023-Final-IUPwatt--bookmarks.pdf\", \n",
    "                           pages='84-92', flavor='lattice')\n",
    "print(len(ct_attachmentD))"
   ]
  },
  {
   "cell_type": "code",
   "execution_count": null,
   "metadata": {},
   "outputs": [],
   "source": [
    "ct_attachmentD_output = pd.concat([ct_attachmentD[1].df,\n",
    "                                   ct_attachmentD[3].df,\n",
    "                                   ct_attachmentD[5].df,\n",
    "                                   ct_attachmentD[7].df,\n",
    "                                   ct_attachmentD[9].df,\n",
    "                                   ct_attachmentD[11].df,\n",
    "                                   ct_attachmentD[13].df,\n",
    "                                   ct_attachmentD[15].df,\n",
    "                                   ct_attachmentD[17].df\n",
    "                                    ], ignore_index=True)\n",
    "\n",
    "ct_attachmentD_output.columns = [ct_attachmentD[0].df.iloc[0,].str.replace(\"\\n\", \" \")]\n",
    "\n",
    "ct_attachmentD_output = ct_attachmentD_output.replace(\"\\n\", \" \", regex=True).copy()\n",
    "\n",
    "ct_attachmentD_output"
   ]
  },
  {
   "cell_type": "code",
   "execution_count": 32,
   "metadata": {},
   "outputs": [],
   "source": [
    "ct_attachmentD_output.to_csv(\"../data/CT-iup-attachmentD.csv\", index=False)"
   ]
  },
  {
   "cell_type": "markdown",
   "metadata": {},
   "source": [
    "### CT IUP Attachment F - Updated"
   ]
  },
  {
   "cell_type": "code",
   "execution_count": 33,
   "metadata": {},
   "outputs": [
    {
     "name": "stdout",
     "output_type": "stream",
     "text": [
      "5\n"
     ]
    }
   ],
   "source": [
    "ct_attachmentF = camelot.read_pdf(\"../temp/Base-Supplemental-Project-Priority-List-for-SFY-2023.pdf\", \n",
    "                           pages='all', flavor='lattice')\n",
    "print(len(ct_attachmentF))"
   ]
  },
  {
   "cell_type": "code",
   "execution_count": null,
   "metadata": {},
   "outputs": [],
   "source": [
    "ct_attachmentF_output = pd.concat([ct_attachmentF[0].df,\n",
    "                                   ct_attachmentF[1].df,\n",
    "                                   ct_attachmentF[2].df,\n",
    "                                   ct_attachmentF[3].df,\n",
    "                                   ct_attachmentF[4].df], ignore_index=True) \n",
    "\n",
    "ct_attachmentF_output.columns = ['Rank', 'Project #', 'PWSID', 'Public Water System', 'Town of PWS', 'Project Name',\n",
    "                                 'Points', 'Amount Requested', 'Project Serves a Disadvantaged Community', 'Small System',\n",
    "                                 'Population Served by Project', 'Lead Service Line', 'Lead Service Line Estimated Amount',\n",
    "                                 'Emerg. Contam', 'Emerg. Contam. Estimated Amount']\n",
    "\n",
    "ct_attachmentF_output = ct_attachmentF_output.replace(\"\\n\", \" \", regex=True)\n",
    "\n",
    "ct_attachmentF_output"
   ]
  },
  {
   "cell_type": "code",
   "execution_count": 89,
   "metadata": {},
   "outputs": [],
   "source": [
    "# manually fix combined columns\n",
    "\n",
    "ct_attachmentF_output.iloc[43, 7] = \"$5,000,000\"\n",
    "ct_attachmentF_output.iloc[43, 8] = \"See Footnote 4\"\n",
    "ct_attachmentF_output.iloc[43, 9] = \"No\"\n",
    "\n",
    "ct_attachmentF_output.iloc[104, 7] = \"$300,000\"\n",
    "ct_attachmentF_output.iloc[104, 8] = \"See Footnote 4\"\n"
   ]
  },
  {
   "cell_type": "code",
   "execution_count": 112,
   "metadata": {},
   "outputs": [],
   "source": [
    "ct_attachmentF_output.to_csv(\"../data/CT-iup-attachmentF.csv\", index=False)"
   ]
  },
  {
   "cell_type": "code",
   "execution_count": 10,
   "metadata": {},
   "outputs": [
    {
     "name": "stdout",
     "output_type": "stream",
     "text": [
      "Deleted folder and all files within ../temp-docs\n"
     ]
    }
   ],
   "source": [
    "deleteTempDriveFolder(path)"
   ]
  }
 ],
 "metadata": {
  "kernelspec": {
   "display_name": "base",
   "language": "python",
   "name": "python3"
  },
  "language_info": {
   "codemirror_mode": {
    "name": "ipython",
    "version": 3
   },
   "file_extension": ".py",
   "mimetype": "text/x-python",
   "name": "python",
   "nbconvert_exporter": "python",
   "pygments_lexer": "ipython3",
   "version": "3.11.4"
  }
 },
 "nbformat": 4,
 "nbformat_minor": 2
}
