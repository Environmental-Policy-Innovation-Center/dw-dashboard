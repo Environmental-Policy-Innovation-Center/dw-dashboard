{
 "cells": [
  {
   "cell_type": "markdown",
   "metadata": {},
   "source": [
    "## GOOGLE DRIVE FUNCTIONS"
   ]
  },
  {
   "cell_type": "code",
   "execution_count": 1,
   "metadata": {},
   "outputs": [],
   "source": [
    "from pdfhandler import downloadTempDriveFolder, deleteTempDriveFolder"
   ]
  },
  {
   "cell_type": "code",
   "execution_count": 2,
   "metadata": {},
   "outputs": [
    {
     "name": "stderr",
     "output_type": "stream",
     "text": [
      "Retrieving folder list\n"
     ]
    },
    {
     "name": "stdout",
     "output_type": "stream",
     "text": [
      "Processing file 1weUV7OmOvBiXobPf79x2T7lFru2xsexj 2022-DWSRF-IUP-1.pdf\n",
      "Building directory structure completed\n"
     ]
    },
    {
     "name": "stderr",
     "output_type": "stream",
     "text": [
      "Retrieving folder list completed\n",
      "Building directory structure\n",
      "Downloading...\n",
      "From: https://drive.google.com/uc?id=1weUV7OmOvBiXobPf79x2T7lFru2xsexj\n",
      "To: /Users/pcork/epic/dw-dashboard/year1/AL/temp-docs/2022-DWSRF-IUP-1.pdf\n",
      "100%|██████████| 746k/746k [00:00<00:00, 8.97MB/s]\n",
      "Download completed\n"
     ]
    }
   ],
   "source": [
    "downloadTempDriveFolder('year1/AL')"
   ]
  },
  {
   "cell_type": "code",
   "execution_count": 3,
   "metadata": {},
   "outputs": [
    {
     "name": "stdout",
     "output_type": "stream",
     "text": [
      "Deleted folder and all files within year1/AL/temp-docs\n"
     ]
    }
   ],
   "source": [
    "deleteTempDriveFolder('year1/AL')"
   ]
  },
  {
   "cell_type": "code",
   "execution_count": null,
   "metadata": {},
   "outputs": [],
   "source": []
  }
 ],
 "metadata": {
  "kernelspec": {
   "display_name": "Python 3",
   "language": "python",
   "name": "python3"
  },
  "language_info": {
   "codemirror_mode": {
    "name": "ipython",
    "version": 3
   },
   "file_extension": ".py",
   "mimetype": "text/x-python",
   "name": "python",
   "nbconvert_exporter": "python",
   "pygments_lexer": "ipython3",
   "version": "3.11.4"
  }
 },
 "nbformat": 4,
 "nbformat_minor": 2
}
